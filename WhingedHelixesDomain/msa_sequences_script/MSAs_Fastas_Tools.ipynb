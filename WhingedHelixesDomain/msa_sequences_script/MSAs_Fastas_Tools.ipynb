{
 "cells": [
  {
   "cell_type": "code",
   "execution_count": 1,
   "metadata": {},
   "outputs": [
    {
     "name": "stderr",
     "output_type": "stream",
     "text": [
      "/home/nicola/internship/winghel/msa_sequences_script/MSAs_Profiles_Fastas_Functions.py:345: DtypeWarning: Columns (2,8,9,10) have mixed types. Specify dtype option on import or set low_memory=False.\n",
      "  eukarya_metadata = pd.read_csv('/home/nicola/internship/winghel/msa_sequences_script/eukarya_proteomes_metadata.tsv', sep='\\t', usecols=[0,1,2,8,9,10])\n"
     ]
    }
   ],
   "source": [
    "from MSAs_Profiles_Fastas_Functions import *"
   ]
  },
  {
   "cell_type": "code",
   "execution_count": 3,
   "metadata": {},
   "outputs": [
    {
     "data": {
      "text/plain": [
       "56"
      ]
     },
     "execution_count": 3,
     "metadata": {},
     "output_type": "execute_result"
    }
   ],
   "source": [
    "# N of file in a directory\n",
    "fastas_dir = \"/home/nicola/internship/winghel/fastas/ask1\"\n",
    "len(os.listdir(fastas_dir))"
   ]
  },
  {
   "cell_type": "code",
   "execution_count": 5,
   "metadata": {},
   "outputs": [
    {
     "data": {
      "text/plain": [
       "34"
      ]
     },
     "execution_count": 5,
     "metadata": {},
     "output_type": "execute_result"
    }
   ],
   "source": [
    "# N of sequences in a fasta file\n",
    "fasta_file = \"/home/nicola/internship/winghel/fastas/dam1/dam1_conc.fasta\"\n",
    "num_sequences = sum(1 for _ in SeqIO.parse(fasta_file, \"fasta\"))\n",
    "num_sequences"
   ]
  },
  {
   "cell_type": "code",
   "execution_count": 8,
   "metadata": {},
   "outputs": [
    {
     "data": {
      "text/plain": [
       "'Caulerpa lentillifera'"
      ]
     },
     "execution_count": 8,
     "metadata": {},
     "output_type": "execute_result"
    }
   ],
   "source": [
    "get_species_name('CAULEN')"
   ]
  },
  {
   "cell_type": "code",
   "execution_count": 2,
   "metadata": {},
   "outputs": [],
   "source": [
    "fasta_input = \"\"\"\n",
    ">SYNPLU003979/8-64 1-66\n",
    "------------GFQDNA--------------------------------NQLLDMAALEQLLP------DF\n",
    "GTDRITLLVDLLVRRRFVDRHQDPQQAW-----------------NIQWSLH\n",
    ">GEMCRY020097/9-85 1-86\n",
    "GQGAVQIQAVYAALKAAE--------------------------------ASGLTFKQLTVLV-------SF\n",
    "EVARIKFLLDTLVTKKLVLVLDATLNAI--------TTDMDQESGMVRYHVA\n",
    ">COEREV004001/9-77 1-77\n",
    "PPASDQLHALWEVAISQQ--------------------------------QRLWSLDELMAACAVHECMRHA\n",
    "SPSVCLVLLDLLARRRLLRKVSDDL-----------------------WTAH\n",
    ">VAVCUL000084/8-65 1-67\n",
    "---SEHVQMIYGYVEHRG----------------------------------QVGLNDVYEAFK------DV\n",
    "EMERMDIFIEMMIRKRFLGCRD-----------------------GVLYTKR\n",
    ">ENCINT000027/9-64 1-64\n",
    "EEG---LFLVYEIISR-----------------------------------APITLEEIYNEIS------TI\n",
    "PREKINIFVDLLLRKRFIGREGNTF------------------------RTA\n",
    "\"\"\""
   ]
  },
  {
   "cell_type": "code",
   "execution_count": 3,
   "metadata": {},
   "outputs": [
    {
     "name": "stdout",
     "output_type": "stream",
     "text": [
      ">SYNPLU003979 8-64\n",
      "GFQDNANQLLDMAALEQLLPDFGTDRITLLVDLLVRRRFVDRHQDPQQAWNIQWSLH\n",
      ">GEMCRY020097 9-85\n",
      "GQGAVQIQAVYAALKAAEASGLTFKQLTVLVSFEVARIKFLLDTLVTKKLVLVLDATLNAITTDMDQESGMVRYHVA\n",
      ">COEREV004001 9-77\n",
      "PPASDQLHALWEVAISQQQRLWSLDELMAACAVHECMRHASPSVCLVLLDLLARRRLLRKVSDDLWTAH\n",
      ">VAVCUL000084 8-65\n",
      "SEHVQMIYGYVEHRGQVGLNDVYEAFKDVEMERMDIFIEMMIRKRFLGCRDGVLYTKR\n",
      ">ENCINT000027 9-64\n",
      "EEGLFLVYEIISRAPITLEEIYNEISTIPREKINIFVDLLLRKRFIGREGNTFRTA\n",
      "\n"
     ]
    }
   ],
   "source": [
    "print(clean_fasta_sequences(fasta_input))"
   ]
  },
  {
   "cell_type": "code",
   "execution_count": 6,
   "metadata": {},
   "outputs": [
    {
     "name": "stdout",
     "output_type": "stream",
     "text": [
      "An * was replaced at position 515\n",
      "An X was replaced at position 0\n",
      "An * was replaced at position 824\n",
      ">SYNPLU003979\n",
      "MSQPTSADLAAHLELVEQNITLTLQQIDHNFAAAITRKFGDISIKIWEGSQSKASIPLPPSPTETTNSPDRSERAELSTRLEYSRALSHMKTSRTRHQLHYTPVRPNLSRAIAEEPVGTSVASASVLSSIREQPGIAFEPWFREYIHGSTIATLSLLHAGNSMLRATPLKARPPKMASTPRLLQQVLTANTKANINNNQLKRQTMTPRRDHHTLFDVATPCSDATTSEDEDDVDAVTTGNYINKKFKANESDEVGDSTDRYLEMNSPPVTLQFTLPIAKTPGRTAVDAIIDEISPGSNSPSNTEFLTRMQETTMANQGNRGASAASNAHDNPFESSMAGGGVLFGKNNANSNQQSRPYDSVNGVPSFEGSTLGGQPSNTGGSIMPDRPANPLFQEEHMSDEDISMEEQSHAMTSNQAVQQPNRKSVFTQGNDSTATATSEASTTFDLSLFPSAFQGFQDNANQLLDMAALEQLLPDFGTDRITLLVDLLVRRRFVDRHQDPQQAWNIQWSLHSSD\n",
      ">GEMCRY020097\n",
      "QLAPPSARLRKQGMPPLRSPLGRSPHHSSADFFEKRPSPHPGCGDARTLEVRGSATRMGDQTLQERYDAANQQVTALLEQVDANVCKATDSAAELLTGVRTFVAHTKSVNSACAIWMSFFRAFEDEERKRSLSERSLAQSDDTPNLTNELLPSFCGSPRTPSLEDSGRCKRRYEATPDCGASPLRSVKFKETTSSAARAGGVAGTEPAADAAEAGPQEGEDSFSPLSQPNFGLLNLPIPGNLKTECSVLDARLAARGMQFAGDSGCSSWASAAAGRGGEPSLNDSSTPTVSSPTVTISVAELHSLLRSSPALALASVQQEPAIVRRDSAVLSQATLNNLPPIFRAGQGAVQIQAVYAALKAAEASGLTFKQLTVLVSFEVARIKFLLDTLVTKKLVLVLDATLNAITTDMDQESGMVRYHVAP\n",
      ">COEREV004001\n",
      "MSQFGRQLQIPRPDSRNSQYSGHGGMSSSRFTNALSAVVKPDYSRPPIPGSAQKQQSVAETVEEELEEVEQKITLTLQAIDASFDHSQRTMARDVMPKIEKLARLSGDLLQASQPWLQFFMAVAAADEQEETEDRVGNMEDDMVRADVEVEDDTRASMGMARRVAIEEQAHKGDITARFPEEGHEWRVDEGGEDDDSIDIDADIATPQLTSRFMTEELAQPRNETTSEYPTTPRVRNMKRMAEQLSISAKKRKIGNTPKKQQQSTQGMPKTPVSMMRALVHSRVQQGSAVSYASKNSSSMATEDLMPDTSPPHTTTFILPQSRRIAPARVPSRVNKPEDDRYGFGDDDDDILDEINSLIKRYDSPVSRATASSVKEESVILNNRQMSSVARSVATDRVEEGDMAALMNKYASPEAGALQASEADVCRAEGLVADMEEMLDEVEAAAQNRTQEAVSEQPQDEPEDHDDLDHIPSPPEIASNLDRARADILPVVASSSDVPDAAVGGQERVGARPNATASGENGVGDRSNAAARRPVVAGREAYQPRRTFGGGVNMMRMGIEAMANDDVTIGHMSPLANRGRTRVAPSDGIRAAQGPAVTGTQFYSLGSEVDTDDPFGPTPARPPVRGFVQSTQSDRAPNTDHMNNSMHSWSAQARNIGNNTLGSDATETLESSGLMDETRDSRLNDSSMTIDHDSHQSIDGTTTILPTREMLLHAARVAEEGTHPDDITSASDLSPSAAPLVTAFEINDFPLAFRDPPASDQLHALWEVAISQQQRLWSLDELMAACAVHECMRHASPSVCLVLLDLLARRRLLRKVSDDLWTAH\n",
      ">VAVCUL000084\n",
      "MHPMHKIEVEEQIIDKLEEIDQTFSSINKVLKEINHKIEQLSHTNTKILEHSQPWLNFFNITGEQPVTDSVEHTNELTSSGTYELPAHKYDVSVDDALHSLNMEQLPEAFSSEHVQMIYGYVEHRGQVGLNDVYEAFKDVEMERMDIFIEMMIRKRFLGCRDGVLYTKRRSDGH\n",
      ">ENCINT000027\n",
      "MIEIEEEIIRTIEEIDNTFSSINRTLRNIRGSIESIGKNNRKISEGLSPWIRFFSVESSESEESELLTTENEPRLVEEPSFQNICVTEGSPISMKLSSPRNPFVDSTSSEMLNKTFLGDLSARFHTSNAENESSSFVKIVEEKAFESYEETESSDNIFPFNPGMLPPLFRNEEGLFLVYEIISRAPITLEEIYNEISTIPREKINIFVDLLLRKRFIGREGNTFRTA\n",
      "\n"
     ]
    }
   ],
   "source": [
    "print(clean_fasta_sequences(get_fasta_sequences(protein='ask1', fasta_input=fasta_input)))"
   ]
  },
  {
   "cell_type": "code",
   "execution_count": 7,
   "metadata": {},
   "outputs": [
    {
     "name": "stdout",
     "output_type": "stream",
     "text": [
      ">SYNPLU003979\n",
      "681794\n",
      ">GEMCRY020097\n",
      "EP00277_Geminigera_cryophila_P020097\n",
      ">COEREV004001\n",
      "87542\n",
      ">VAVCUL000084\n",
      "VCUG_01697\n",
      ">ENCINT000027\n",
      "Eint_110270\n",
      "\n"
     ]
    }
   ],
   "source": [
    "print(get_genes_ids(fasta_input))"
   ]
  },
  {
   "cell_type": "markdown",
   "metadata": {},
   "source": [
    "##### Alignments files managing functions"
   ]
  },
  {
   "cell_type": "code",
   "execution_count": 16,
   "metadata": {},
   "outputs": [],
   "source": [
    "# Save File with complete sequences\n",
    "namefile = '/home/nicola/internship/winghel/alignments/spc19_curated_WHD_.fasta'\n",
    "fasta_input='/home/nicola/internship/winghel/alignments/spc19_curated_WHD.fasta'\n",
    "new_fille=get_fasta_sequences(protein='spc34', fasta_input=fasta_input, is_path=True)\n",
    "new_fille=clean_fasta_sequences(new_fille)\n",
    "\n",
    "with open(namefile, 'w') as outfile:\n",
    "    outfile.write(new_fille)"
   ]
  },
  {
   "cell_type": "code",
   "execution_count": 4,
   "metadata": {},
   "outputs": [],
   "source": [
    "# Save File with cleaned sequences\n",
    "namefile = '/home/nicola/internship/spc19_temp_complete_seq.fasta'\n",
    "fasta_input= '/home/nicola/internship/spc19_temp_complete_seq_re_align.fasta'\n",
    "new_fille=clean_fasta_sequences(fasta_input, is_path=True)\n",
    "\n",
    "with open(namefile, 'w') as outfile:\n",
    "    outfile.write(new_fille)"
   ]
  },
  {
   "cell_type": "code",
   "execution_count": 5,
   "metadata": {},
   "outputs": [
    {
     "data": {
      "text/plain": [
       "CompletedProcess(args=['cat', '/home/nicola/internship/winghel/alignments/ask1_curated_WHD_not_aligned.fasta', '/home/nicola/internship/spc19_temp_complete_seq.fasta'], returncode=0)"
      ]
     },
     "execution_count": 5,
     "metadata": {},
     "output_type": "execute_result"
    }
   ],
   "source": [
    "cat_output = \"/home/nicola/internship/spc19_ask1_temp_cat.fasta\"\n",
    "fasta_input_1= '/home/nicola/internship/spc19_temp_complete_seq.fasta'\n",
    "fasta_input_2= '/home/nicola/internship/winghel/alignments/ask1_curated_WHD_not_aligned.fasta'\n",
    "\n",
    "subprocess.run([\"cat\", fasta_input_2, fasta_input_1], stdout=open(cat_output, \"w\"))"
   ]
  },
  {
   "cell_type": "code",
   "execution_count": null,
   "metadata": {},
   "outputs": [],
   "source": [
    "msa_output = \"/home/nicola/internship/spc19_ask1_temp_aligned.fasta\"\n",
    "fasta_input= \"/home/nicola/internship/spc19_ask1_temp_cat.fasta\"\n",
    "\n",
    "subprocess.run([\"mafft\", \"--localpair\", \"--maxiterate\", \"1000\", fasta_input], stdout=open(msa_output, \"w\"))"
   ]
  },
  {
   "cell_type": "markdown",
   "metadata": {},
   "source": [
    "##### Filenames and Ids"
   ]
  },
  {
   "cell_type": "code",
   "execution_count": 35,
   "metadata": {},
   "outputs": [],
   "source": [
    "import glob\n",
    "pattern='/home/nicola/internship/winghel/alignments/*_curated_WHD_not_aligned.fasta'\n",
    "matching_files = glob.glob(pattern)\n",
    "\n",
    "list_of_WHD_filenames = []\n",
    "for file in matching_files:\n",
    "    for record in SeqIO.parse(file, 'fasta'):\n",
    "        list_of_WHD_filenames.append(record.id)"
   ]
  },
  {
   "cell_type": "code",
   "execution_count": 42,
   "metadata": {},
   "outputs": [],
   "source": [
    "dictionary_of_ids={}\n",
    "for filename in list_of_WHD_filenames:\n",
    "    entry_id=get_gene_id(filename)\n",
    "    dictionary_of_ids[filename]=entry_id\n"
   ]
  },
  {
   "cell_type": "code",
   "execution_count": 53,
   "metadata": {},
   "outputs": [
    {
     "data": {
      "text/plain": [
       "{'ACACAS013610': 'BAESF_10891.mRNA.1',\n",
       " 'ANDGOD006540': 'EP00762_Andalucia_godoyi_P006540',\n",
       " 'AURLIM005861': 'EP00512_Aurantiochytrium_limacinum_P005861',\n",
       " 'BASMER009662': '404126',\n",
       " 'BIGNAT000688': 'fgenesh1_pg.1__634',\n",
       " 'CAPOWC001955': 'CAOG_000198',\n",
       " 'CHRPER004240': 'Nk52_evm29s272',\n",
       " 'COEREV004001': '87542',\n",
       " 'COLSPE009295': 'EP00742_Colponemidia_sp_Colp-10_P009295',\n",
       " 'CREFRA003732': 'CFRG3732T1',\n",
       " 'CYAMER000423': 'CMI108C',\n",
       " 'DIALUT000917': 'KAG8457799.1',\n",
       " 'ENCINT000027': 'Eint_110270',\n",
       " 'GEMCRY020097': 'EP00277_Geminigera_cryophila_P020097',\n",
       " 'GONPAC033240': 'EP00295_Goniomonas_pacifica_P033240',\n",
       " 'HALSEO005739': 'EP01138_Halocafeteria_seosinensis_P005739',\n",
       " 'HONFER007395': 'GBG30869.1',\n",
       " 'KLENIT003090': 'kfl00055_0300_v1.1',\n",
       " 'MADERY004203': 'EP00179_Madagascaria_erythrocladioides_P004203',\n",
       " 'MANSPH000209': 'g6333.t1',\n",
       " 'MANSPH001809': 'g6335.t1',\n",
       " 'MASSPE006600': 'EP00942_MAST-04A_sp_MAST-4A-sp1_P006600',\n",
       " 'PALBIL007647': 'EP00297_Palpitomonas_bilix_P007647',\n",
       " 'PHYINF002546': 'PITG_07257',\n",
       " 'PLABRA003073': 'PBRA_000567',\n",
       " 'PLATAR014850': 'EP00753_Platysulcus_tardus_P014850',\n",
       " 'SAPDIC014054': 'EP00654_Saprolegnia_diclina_P014054',\n",
       " 'STYINC011233': 'EP01028_Stygiella_incarcerata_P011233',\n",
       " 'SYNPLU003979': '681794',\n",
       " 'VAVCUL000084': 'VCUG_01697',\n",
       " 'ACACAS000042': 'BAESF_00280.mRNA.1',\n",
       " 'ACAPLA012215': 'XP_022091277.1',\n",
       " 'ANDGOD005114': 'EP00762_Andalucia_godoyi_P005114',\n",
       " 'ARATHA031677': 'NP_191625.1',\n",
       " 'AURLIM007598': 'EP00512_Aurantiochytrium_limacinum_P007598',\n",
       " 'CAEELE022049': 'Y106G6H.15',\n",
       " 'CHLREI017800': 'CHLRE_16g672500v5',\n",
       " 'CHLVAR006760': '143235',\n",
       " 'CIOINT011641': 'ENSCING00000021659.1',\n",
       " 'CLAOKA010352': 'g9795.t1',\n",
       " 'COCSUB002827': 'EP00206_Coccomyxa_subellipsoidea_P002827',\n",
       " 'COLSPE011554': 'EP00742_Colponemidia_sp_Colp-10_P011554',\n",
       " 'CRAGIG000214': 'XP_011412037.2',\n",
       " 'CYAMER003793': 'CMI099C',\n",
       " 'CYAPAR008903': '18013',\n",
       " 'CYCPAN011291': 'CYCAS_019930',\n",
       " 'DANRER024495': 'ENSDARG00000039354.5',\n",
       " 'DIAGRA027317': 'EP00040_Diaphanoeca_grandis_P027317',\n",
       " 'DIALUT002252': 'KAG8459134.1',\n",
       " 'DIPROT002403': 'EP00002_Diphylleia_rotans_P002403',\n",
       " 'DNA_TRIVAG000584_g7.t1': 'TVAG_511300',\n",
       " 'ELPMAR024705': 'EP00485_Elphidium_margaritaceum_P024705',\n",
       " 'ENTSUL015118': 'EP01012_Entosiphon_sulcatum_P015118',\n",
       " 'EUGLON011731': 'EP00668_Euglena_longa_P011731',\n",
       " 'GEFOKE008078': 'EP00698_Gefionella_okellyi_P008078',\n",
       " 'GLOWIT014044': 'EP00276_Gloeochaete_wittrockiana_P014044',\n",
       " 'GONPRO005598': 'KXS14359.1',\n",
       " 'GRACHO003977': 'PXF43359.1',\n",
       " 'HEMKUK012519': 'EP00696_Hemimastix_kukwesjijk_P012519',\n",
       " 'HOMSAP003240': 'NP_001034624.1',\n",
       " 'HONFER000888': 'GBG24362.1',\n",
       " 'IXOSCA000760': 'XP_002406721.1',\n",
       " 'KLENIT014896': 'kfl00840_0060_v1.1',\n",
       " 'LENLIM015878': 'EP01086_Lenisia_limosa_P015878',\n",
       " 'LEUCOM054971': 'lcpid79750|',\n",
       " 'MANSPH001947': 'g5910.t1',\n",
       " 'MARPOL016059': 'BBN12761.1',\n",
       " 'MASBAL001195': 'EP00727_Mastigamoeba_balamuthi_P001195',\n",
       " 'MATSPE016054': 'EP00462_Mataza_sp_D1_P016054',\n",
       " 'MNELEI009534': 'ML11614a',\n",
       " 'MONBRE005406': 'MONBRDRAFT_34174',\n",
       " 'MONNEG010610': 'XP_013900846.1',\n",
       " 'NEMVEC023862': 'XP_048582218.1',\n",
       " 'NUTLON006250': 'EP00162_Nutomonas_longa_P006250',\n",
       " 'PARATL015983': 'EP00160_Parvularia_atlantis_P015983',\n",
       " 'PERSWS006553': 'EP00818_Percolomonas_sp_WS_P006553',\n",
       " 'PHAKIR006448': 'EP00761_Pharyngomonas_kirbyi_P006448',\n",
       " 'PHYPAT021316': 'EP00247_Physcomitrium_patens_P021316',\n",
       " 'PHYPOL012497': 'EP00026_Physarum_polycephalum_P012497',\n",
       " 'PICSPE027026': 'EP01043_Picozoa_sp_COSAG02_P027026',\n",
       " 'PICSPE033472': 'EP01043_Picozoa_sp_COSAG02_P033472',\n",
       " 'PLAFUN015275': 'PROFUN_02302',\n",
       " 'PORPUR005146': 'KAA8495344.1',\n",
       " 'PRIPAC019221': 'PPA42199',\n",
       " 'PRIPAC028840': 'ppa_stranded_DN9571_c0_g1_i1',\n",
       " 'RAPHET015456': 'EP00301_Raphidiophrys_heterophryoidea_P015456',\n",
       " 'RHIIRR020304': 'POG77482.1',\n",
       " 'RHOMAR011706': 'EP00736_Rhodelphis_marinus_P011706',\n",
       " 'ROZALL002819': 'O9G_003414',\n",
       " 'SALKVE009177': 'EP00050_Salpingoeca_kvevrii_P009177',\n",
       " 'SORBIC012460': 'SORBI_3002G303800',\n",
       " 'SPIPUN004064': 'SPPG_04135',\n",
       " 'STRRAT004299': 'SRAE_1000341000',\n",
       " 'TELSUB032564': 'EP00656_Telonema_subtile_P032564',\n",
       " 'THETRA009138': 'AMSG_01528',\n",
       " 'TRIADH009360': 'TriadG63718',\n",
       " 'VITBRA002738': 'Vbra_6236',\n",
       " 'USTMAY006648': 'UMAG_05210',\n",
       " 'UMBRAM002357': '227583',\n",
       " 'SAPDIC005584': 'EP00654_Saprolegnia_diclina_P005584',\n",
       " 'RIGRAM016075': 'EP00004_Rigifila_ramosa_P016075',\n",
       " 'RHIIRR012567': 'POG69745.1',\n",
       " 'PLABRA000399': 'PBRA_000189',\n",
       " 'PHYINF012573': 'PITG_06914',\n",
       " 'MORVER011086': '8666',\n",
       " 'MICMAR067071': 'TRINITY_DN9092_c0_g1_i2_3',\n",
       " 'MANSPH001012': 'g5666.t1',\n",
       " 'HYPCAT012637': '4740',\n",
       " 'HALSPE003656': 'EP00499_Haloplacidia_sp_CaronLabIsolate_P003656',\n",
       " 'HALSEO011499': 'EP01138_Halocafeteria_seosinensis_P011499',\n",
       " 'GUITHE018320': 'GUITHDRAFT_161926',\n",
       " 'GONPAC051218': 'EP00295_Goniomonas_pacifica_P051218',\n",
       " 'GALSUL003538': 'Gasu_13230',\n",
       " 'ENCINT000521': 'Eint_021240',\n",
       " 'DNA_ANDGOD000012_g16.t1': 'EP00762_Andalucia_godoyi_P000012',\n",
       " 'CYAMER004896': 'CMR219C',\n",
       " 'CREFRA008022': 'CFRG8022T1',\n",
       " 'COLSPE010048': 'EP00742_Colponemidia_sp_Colp-10_P010048',\n",
       " 'COEREV005585': '82901',\n",
       " 'CHRPER000708': 'Nk52_evm20s150',\n",
       " 'BIGNAT010037': 'aug1.32_g10890',\n",
       " 'BASMER004989': '316446',\n",
       " 'AURLIM000367': 'EP00512_Aurantiochytrium_limacinum_P000367',\n",
       " 'AGABIS007030': '208298',\n",
       " 'DNA_PHATRI000014_g11.t1': 'Phatr3_Jdraft1166',\n",
       " 'GRACHO010647': 'PXF50029.1',\n",
       " 'CYAMER002084': 'CMG015C',\n",
       " 'RHOMAR010609': 'EP00736_Rhodelphis_marinus_P010609',\n",
       " 'TRIVAG032413': 'TVAG_216190',\n",
       " 'CYAPAR005063': '14558',\n",
       " 'CHASUB013029': 'EP00638_Chattonella_subsalsa_P013029',\n",
       " 'CLAOKA010689': 'g10102.t1',\n",
       " 'HONFER007745': 'GBG31219.1',\n",
       " 'RAMVAR006317': 'GAU93406.1',\n",
       " 'CHOSPE041422': 'EP00300_Choanocystis_sp_HF-7_P041422',\n",
       " 'MASBAL013721': 'EP00727_Mastigamoeba_balamuthi_P013721',\n",
       " 'ELPMAR009455': 'EP00485_Elphidium_margaritaceum_P009455',\n",
       " 'TELSPE018881': 'EP00658_Telonema_sp_P-2_P018881',\n",
       " 'TELSUB021017': 'EP00656_Telonema_subtile_P021017',\n",
       " 'GEMCRY036715': 'EP00277_Geminigera_cryophila_P036715',\n",
       " 'GONPAC046441': 'EP00295_Goniomonas_pacifica_P046441',\n",
       " 'GUITHE016701': 'GUITHDRAFT_100597',\n",
       " 'DANRER041425': 'ENSDARG00000114038.1',\n",
       " 'NUTLON017426': 'EP00162_Nutomonas_longa_P017426',\n",
       " 'MATSPE018716': 'EP00462_Mataza_sp_D1_P018716',\n",
       " 'LEUCOM028141': 'lcpid89980|',\n",
       " 'MANSPH002917': 'g8031.t1',\n",
       " 'DIAGRA020138': 'EP00040_Diaphanoeca_grandis_P020138',\n",
       " 'ACAPLA022909': 'XP_022101971.1',\n",
       " 'CRAGIG001154': 'XP_011414208.2',\n",
       " 'TRIADH003497': 'TriadG59719',\n",
       " 'COLSPE012023': 'EP00742_Colponemidia_sp_Colp-10_P012023',\n",
       " 'THETRA009491': 'AMSG_04344',\n",
       " 'SALKVE013272': 'EP00050_Salpingoeca_kvevrii_P013272',\n",
       " 'RHIIRR014209': 'POG71387.1',\n",
       " 'VITBRA006680': 'Vbra_13923',\n",
       " 'THEPAR002214': 'EP00375_Theileria_parva_P002214',\n",
       " 'PLAFAL000459': 'PF3D7_0307500',\n",
       " 'TOXGON001534': 'TGME49_259520',\n",
       " 'SALKVE013271': 'EP00050_Salpingoeca_kvevrii_P013271',\n",
       " 'ACACAS002411': 'BAESF_03651.mRNA.1',\n",
       " 'ACAPLA003001': 'XP_022082063.1',\n",
       " 'ANDGOD005558': 'EP00762_Andalucia_godoyi_P005558',\n",
       " 'ARATHA034994': 'NP_196277.2',\n",
       " 'BAFFRI057471': 'EP00290_Baffinella_frigidus_P057471',\n",
       " 'CHABRA027380': 'CBR_g40815',\n",
       " 'CHASUB002158': 'EP00638_Chattonella_subsalsa_P002158',\n",
       " 'CHLATM007871': 'EP00898_Chlorokybus_atmophyticus_P007871',\n",
       " 'CHLREI009192': 'CHLRE_08g359800v5',\n",
       " 'COLSPE008086': 'EP00742_Colponemidia_sp_Colp-10_P008086',\n",
       " 'CYAPAR024167': '8785',\n",
       " 'CYCPAN029466': 'CYCAS_007245',\n",
       " 'DIPROT040626': 'EP00002_Diphylleia_rotans_P040626',\n",
       " 'DNA_NANOCE001076_g2.t1': '536245',\n",
       " 'EUGLON011654': 'EP00668_Euglena_longa_P011654',\n",
       " 'GEFOKE024180': 'EP00698_Gefionella_okellyi_P024180',\n",
       " 'GLOWIT022986': 'EP00276_Gloeochaete_wittrockiana_P022986',\n",
       " 'GONPAC020869': 'EP00295_Goniomonas_pacifica_P020869',\n",
       " 'GUITHE015695': 'GUITHDRAFT_141024',\n",
       " 'KLENIT014443': 'kfl00761_0050_v1.1',\n",
       " 'LENLIM009702': 'EP01086_Lenisia_limosa_P009702',\n",
       " 'LEUCOM016550': 'lcpid59536|',\n",
       " 'MANSPH005803': 'g3877.t1',\n",
       " 'MARPOL018772': 'BBN15474.1',\n",
       " 'MATSPE019768': 'EP00462_Mataza_sp_D1_P019768',\n",
       " 'MONEXI012361': 'EP00770_Monocercomonoides_exilis_P012361',\n",
       " 'MONNEG014145': 'XP_013904381.1',\n",
       " 'NEMVEC009161': 'XP_032226341.2',\n",
       " 'NUTLON024179': 'EP00162_Nutomonas_longa_P024179',\n",
       " 'PHAKIR002386': 'EP00761_Pharyngomonas_kirbyi_P002386',\n",
       " 'PHYPAT010532': 'EP00247_Physcomitrium_patens_P010532',\n",
       " 'PHYPAT017758': 'EP00247_Physcomitrium_patens_P017758',\n",
       " 'PLAFUN013390': 'PROFUN_16041',\n",
       " 'PORPUR002473': 'KAA8492671.1',\n",
       " 'RHIIRR025659': 'POG82837.1',\n",
       " 'SALKVE012596': 'EP00050_Salpingoeca_kvevrii_P012596',\n",
       " 'SORBIC001563': 'SORBI_3008G177100',\n",
       " 'SPIPUN007870': 'SPPG_02237',\n",
       " 'SPISPE003719': 'EP00697_Spironema_sp_BW2_P003719',\n",
       " 'STYINC012834': 'EP01028_Stygiella_incarcerata_P012834',\n",
       " 'TELSPE030098': 'EP00658_Telonema_sp_P-2_P030098',\n",
       " 'TELSUB004554': 'EP00656_Telonema_subtile_P004554',\n",
       " 'THETRA006960': 'AMSG_10540',\n",
       " 'TRIADH009951': 'TriadG56617',\n",
       " 'USTMAY005542': 'UMAG_04621',\n",
       " 'CRYNEO000722': 'CNG02230',\n",
       " 'COEREV001366': '13873',\n",
       " 'GONPAC038858': 'EP00295_Goniomonas_pacifica_P038858',\n",
       " 'GONPAC028305': 'EP00295_Goniomonas_pacifica_P028305',\n",
       " 'PLABRA003712': 'PBRA_005987',\n",
       " 'CREFRA002810': 'CFRG2810T1',\n",
       " 'GUITHE009619': 'GUITHDRAFT_136767',\n",
       " 'GALSUL002954': 'Gasu_31850',\n",
       " 'RHIIRR018969': 'POG76147.1',\n",
       " 'MORVER005003': '3190',\n",
       " 'SAPDIC006901': 'EP00654_Saprolegnia_diclina_P006901',\n",
       " 'PHYINF013650': 'PITG_16863',\n",
       " 'HYPCAT000403': '10363',\n",
       " 'COLSPE010694': 'EP00742_Colponemidia_sp_Colp-10_P010694',\n",
       " 'CHRPER003048': 'Nk52_evm30s233',\n",
       " 'BASMER012610': '13662',\n",
       " 'MANSPH002784': 'g2040.t1',\n",
       " 'HONFER001883': 'GBG25357.1',\n",
       " 'AURLIM007031': 'EP00512_Aurantiochytrium_limacinum_P007031',\n",
       " 'ANDGOD001402': 'EP00762_Andalucia_godoyi_P001402',\n",
       " 'BASMER014767': '404352',\n",
       " 'BIGNAT004278': 'estExt_fgenesh1_pg.C_150002',\n",
       " 'COEREV002951': '8034',\n",
       " 'COLSPE004231': 'EP00742_Colponemidia_sp_Colp-10_P004231',\n",
       " 'CREFRA000295': 'CFRG0295T1',\n",
       " 'MANSPH002854': 'g7690.t1',\n",
       " 'MORVER001756': '11581',\n",
       " 'PHYINF000090': 'PITG_06438',\n",
       " 'PLABRA001192': 'PBRA_004309',\n",
       " 'RAMBRE007886': '165792',\n",
       " 'RIGRAM000581': 'EP00004_Rigifila_ramosa_P000581',\n",
       " 'SAPDIC007214': 'EP00654_Saprolegnia_diclina_P007214',\n",
       " 'STYINC008942': 'EP01028_Stygiella_incarcerata_P008942'}"
      ]
     },
     "execution_count": 53,
     "metadata": {},
     "output_type": "execute_result"
    }
   ],
   "source": [
    "import json\n",
    "\n",
    "# Open the JSON file and load it as a dictionary\n",
    "with open('/home/nicola/internship/winghel/WHD_pritein_ids.json', 'r') as json_file:\n",
    "    dictionary_of_ids = json.load(json_file)"
   ]
  }
 ],
 "metadata": {
  "kernelspec": {
   "display_name": "base",
   "language": "python",
   "name": "python3"
  },
  "language_info": {
   "codemirror_mode": {
    "name": "ipython",
    "version": 3
   },
   "file_extension": ".py",
   "mimetype": "text/x-python",
   "name": "python",
   "nbconvert_exporter": "python",
   "pygments_lexer": "ipython3",
   "version": "3.10.13"
  }
 },
 "nbformat": 4,
 "nbformat_minor": 2
}
