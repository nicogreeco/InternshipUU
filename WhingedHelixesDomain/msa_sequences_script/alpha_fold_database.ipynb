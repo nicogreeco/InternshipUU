{
 "cells": [
  {
   "cell_type": "code",
   "execution_count": 1,
   "metadata": {},
   "outputs": [],
   "source": [
    "import requests\n",
    "import os\n",
    "\n",
    "def download_structure(uniprot_id, directory):\n",
    "    # API endpoint with the specified UniProt ID\n",
    "    api_url = f\"https://alphafold.com/api/prediction/{uniprot_id}\"\n",
    "    headers = {'accept': 'application/json'}\n",
    "    \n",
    "    # Make a GET request to the API\n",
    "    response = requests.get(api_url, headers=headers)\n",
    "    \n",
    "    if response.status_code == 200:\n",
    "        # Parse the JSON response\n",
    "        protein_data = response.json()\n",
    "        \n",
    "        # Extract the URL for the PDB file from the response\n",
    "        pdb_url = protein_data[0].get('pdbUrl')\n",
    "        \n",
    "        if pdb_url:\n",
    "            # Make a GET request to download the PDB file\n",
    "            pdb_response = requests.get(pdb_url)\n",
    "            if pdb_response.status_code == 200:\n",
    "                # Construct the file path with the entry ID and save the file\n",
    "                entry_id = protein_data[0]['entryId']\n",
    "                file_path = os.path.join(directory, f\"{entry_id}.pdb\")\n",
    "                with open(file_path, 'wb') as f:\n",
    "                    f.write(pdb_response.content)\n",
    "                print(f\"Downloaded {entry_id}.pdb\")\n",
    "            else:\n",
    "                print(\"Failed to download PDB file.\")\n",
    "        else:\n",
    "            print(\"PDB URL not found.\")\n",
    "    else:\n",
    "        print(f\"Data retrieval failed for UniProt ID {uniprot_id} with status code {response.status_code}.\")\n",
    "\n",
    "\n"
   ]
  },
  {
   "cell_type": "code",
   "execution_count": 3,
   "metadata": {},
   "outputs": [
    {
     "name": "stdout",
     "output_type": "stream",
     "text": [
      "Data retrieval failed for UniProt ID A0A8J5X4T8_DIALT with status code 404.\n"
     ]
    }
   ],
   "source": [
    "# List of UniProt IDs to download\n",
    "uniprot_ids = ['A0A8J5X4T8_DIALT']  # Example UniProt ID\n",
    "save_directory = './'  # Specify your desired directory here\n",
    "\n",
    "# Create the directory if it doesn't exist\n",
    "os.makedirs(save_directory, exist_ok=True)\n",
    "\n",
    "# Loop through the UniProt IDs and download the structures\n",
    "for uniprot_id in uniprot_ids:\n",
    "    download_structure(uniprot_id, save_directory)\n"
   ]
  }
 ],
 "metadata": {
  "kernelspec": {
   "display_name": "internship",
   "language": "python",
   "name": "python3"
  },
  "language_info": {
   "codemirror_mode": {
    "name": "ipython",
    "version": 3
   },
   "file_extension": ".py",
   "mimetype": "text/x-python",
   "name": "python",
   "nbconvert_exporter": "python",
   "pygments_lexer": "ipython3",
   "version": "3.10.13"
  }
 },
 "nbformat": 4,
 "nbformat_minor": 2
}
