{
 "cells": [
  {
   "cell_type": "code",
   "execution_count": 1,
   "metadata": {},
   "outputs": [],
   "source": [
    "from hhr_parsing_functions import *\n",
    "from network_creation_functions import *\n",
    "import subprocess\n",
    "from collections import defaultdict"
   ]
  },
  {
   "cell_type": "markdown",
   "metadata": {},
   "source": [
    "### Search Parsing"
   ]
  },
  {
   "cell_type": "markdown",
   "metadata": {},
   "source": [
    "##### hhsearch\n"
   ]
  },
  {
   "cell_type": "code",
   "execution_count": 9,
   "metadata": {},
   "outputs": [
    {
     "name": "stdout",
     "output_type": "stream",
     "text": [
      "Input dir: ./search_outputs_range/second_search/hits_hhm\n",
      "Output dir: ./search_outputs_range/sthird_search/not_parsed_hhr\n",
      "Starting processing of 844 files...\n",
      "Searching COG0072_250-335 (% complete).\n",
      "Searching COG0188_20-114 (.100% complete).\n",
      "Searching COG0217_29-95 (.200% complete).\n"
     ]
    }
   ],
   "source": [
    "input_dir='./search_outputs_range/second_search/hits_hhm'\n",
    "output_dir='./search_outputs_range/sthird_search/not_parsed_hhr'\n",
    "subprocess.run([\"./hhm_search.sh\", input_dir, output_dir])"
   ]
  },
  {
   "cell_type": "code",
   "execution_count": 8,
   "metadata": {},
   "outputs": [],
   "source": [
    "# For Background Search\n",
    "input_dir='./search_outputs_range/first_search/hits_hhm'\n",
    "output_dir='./search_outputs_range/second_search/not_parsed_hhr'\n",
    "log_file = open('./search_outputs_range/second_search_range_nohup.log', 'w')\n",
    "process = subprocess.Popen([\"nohup\", \"./hhm_search.sh\", input_dir, output_dir],\n",
    "                           stdout=log_file, stderr=subprocess.STDOUT)"
   ]
  },
  {
   "cell_type": "markdown",
   "metadata": {},
   "source": [
    "##### Profile Extraction"
   ]
  },
  {
   "cell_type": "code",
   "execution_count": null,
   "metadata": {},
   "outputs": [],
   "source": [
    "## ## EXTRACTION OF HITTED .hhm\n",
    "\n",
    "# Directory containing output files from HHsearch.\n",
    "hhsearch_output_dir = \"/home/nicola/internship/winghel/network/search_outputs/first_search/not_parsed_hhr\"\n",
    "list_of_hits = []\n",
    "\n",
    "# Iterate over each HHsearch output file to extract and compile a list of unique hits in the fisrt search\n",
    "for filename in os.listdir(hhsearch_output_dir):\n",
    "    hhsearch_output_file=os.path.join(hhsearch_output_dir, filename) # Create path to file\n",
    "    new_hits=extract_hits_names(hhsearch_output_file, p_cutoff=20) # Extract the hits name\n",
    "    unique_new_hits = list(set(new_hits)) # Removes duplicates from the list of new hits.\n",
    "    list_of_hits.extend(new_hits) # Adds the new hits to the cumulative list of hits.\n",
    "\n",
    "\n",
    "previous_search_queries=[file.split('.')[0] for file in os.listdir(hhsearch_output_dir)]\n",
    "print(f\"In total there are {len(set(list_of_hits))} unique hits, before removing the already searched queries\")\n",
    "list_of_hits = list(set(list_of_hits)-set(previous_search_queries)) # Removes duplicates from the previous search\n",
    "print(f\"In total there are {len(list_of_hits)} unique hits\")\n",
    "\n",
    "\n",
    "# Directory to save the extracted HMM profiles.\n",
    "save_directory=\"/home/nicola/internship/winghel/network/search_outputs/first_search/hits_hhm\"\n",
    "\n",
    "# Extracts and saves the HMM profiles for the list of unique hits.\n",
    "extract_hmm_profiles(list_of_hits, save_directory, database_path=\"/home/nicola/internship/hhsuite/databases/COG_KOG/COG_KOG_hhm.ffdata\")\n"
   ]
  },
  {
   "cell_type": "code",
   "execution_count": 2,
   "metadata": {},
   "outputs": [],
   "source": [
    "adjusted_ranges_mille = defaultdict(list)"
   ]
  },
  {
   "cell_type": "code",
   "execution_count": 3,
   "metadata": {},
   "outputs": [
    {
     "name": "stdout",
     "output_type": "stream",
     "text": [
      "In total there are 452 unique hits, before removing the already searched queries\n",
      "In total there are 292 unique hits\n"
     ]
    }
   ],
   "source": [
    "## EXTRACTION OF HITS -- CUTTED PROFILES\n",
    "\n",
    "# Directory containing output files from HHsearch.\n",
    "hhsearch_output_dir = \"/home/nicola/internship/winghel/network/search_outputs_range/2_search/not_parsed_hhr\"\n",
    "# hhsearch_output_dir=output_dir\n",
    "hits_dict = defaultdict(list)\n",
    "\n",
    "# Iterate over each HHsearch output file to extract and compile a list of unique hits in the fisrt search\n",
    "for filename in os.listdir(hhsearch_output_dir):\n",
    "    hhsearch_output_file=os.path.join(hhsearch_output_dir, filename) # Create path to file\n",
    "    hits_dict=extract_hits_names_and_range(hhsearch_output_file, hits_dict, p_cutoff=40, cols_cutoff=30) # Extract the hits name\n",
    "\n",
    "previous_search_queries=[file.split('.')[0].split('_')[0] for file in os.listdir(hhsearch_output_dir)]\n",
    "print(f\"In total there are {len(hits_dict)} unique hits, before removing the already searched queries\")\n",
    "hits_dict={key: value for key, value in hits_dict.items() if key not in previous_search_queries} # Removes duplicates from the previous search\n",
    "print(f\"In total there are {len(hits_dict)} unique hits\")\n",
    "\n",
    "# Process the ranges\n",
    "processed_ranges = process_ranges(hits_dict)\n",
    "adjusted_ranges = adjust_ranges(processed_ranges)\n"
   ]
  },
  {
   "cell_type": "code",
   "execution_count": 4,
   "metadata": {},
   "outputs": [
    {
     "data": {
      "text/plain": [
       "331"
      ]
     },
     "execution_count": 4,
     "metadata": {},
     "output_type": "execute_result"
    }
   ],
   "source": [
    "counter=0\n",
    "for list in adjusted_ranges.values():\n",
    "    for range in list:\n",
    "        counter += 1\n",
    "counter\n",
    "\n",
    "print(f\"In total there are {len(hits_dict)} unique hits, hitted in {counter} different ranges\")\n"
   ]
  },
  {
   "cell_type": "code",
   "execution_count": 27,
   "metadata": {},
   "outputs": [
    {
     "name": "stderr",
     "output_type": "stream",
     "text": [
      "Processing file: 100%|██████████| 12324031/12324031 [00:13<00:00, 884490.69it/s]\n"
     ]
    }
   ],
   "source": [
    "## EXTRACTION OF .hhm -- CUTTED PROFILES\n",
    "# Directory to save the extracted HMM profiles.\n",
    "save_directory=\"/home/nicola/internship/winghel/network/search_outputs_range/3_search/hits_hhm\"\n",
    "\n",
    "# Extracts and saves the HMM profiles for the list of unique hits.\n",
    "extract_hmm_profiles_and_cut_range(adjusted_ranges, save_directory, database_path=\"/home/nicola/internship/hhsuite/databases/COG_KOG/COG_KOG_hhm.ffdata\")\n",
    "\n"
   ]
  },
  {
   "cell_type": "markdown",
   "metadata": {},
   "source": [
    "##### Parse .hhs"
   ]
  },
  {
   "cell_type": "code",
   "execution_count": 2,
   "metadata": {},
   "outputs": [],
   "source": [
    "## REMOVE SELF HITS\n",
    "list_of_searched_profiles=[]\n",
    "\n",
    "for search in [1, 2, 3]:\n",
    "    # Directory containing the initial HHsearch output files.\n",
    "    path=f'/home/nicola/internship/winghel/network/search_outputs_range/{search}_search/not_parsed_hhr'\n",
    "\n",
    "    # Directory to save the processed HHsearch output, with substitutions applied.\n",
    "    save_dir=f'/home/nicola/internship/winghel/network/search_outputs_range/{search}_search/parsed_hhr'\n",
    "    \n",
    "    # Process each file: remove self-hits.\n",
    "    for file in os.listdir(path):\n",
    "        file_path = os.path.join(path, file)\n",
    "        save_path = os.path.join(save_dir, file)\n",
    "        remove_self_hit(file_path, save_path)"
   ]
  },
  {
   "cell_type": "markdown",
   "metadata": {},
   "source": [
    "### Network"
   ]
  },
  {
   "cell_type": "code",
   "execution_count": 3,
   "metadata": {},
   "outputs": [
    {
     "name": "stdout",
     "output_type": "stream",
     "text": [
      "There are 495 WHD hitted in 444 different proteins\n"
     ]
    }
   ],
   "source": [
    "# Get all the PROFILE_RANGE searched\n",
    "first_search_hits=[(file.split('.')[0].split('_')[0],file.split('.')[0].split('_')[1])  for file in os.listdir('/home/nicola/internship/winghel/network/search_outputs_range/2_search/not_parsed_hhr')]\n",
    "second_search_hits=[(file.split('.')[0].split('_')[0],file.split('.')[0].split('_')[1]) for file in os.listdir('/home/nicola/internship/winghel/network/search_outputs_range/3_search/not_parsed_hhr')]\n",
    "range_search_hits=first_search_hits+second_search_hits\n",
    "\n",
    "range_search_hits_dict = defaultdict(list)\n",
    "\n",
    "for tuple in range_search_hits:\n",
    "    profile = tuple[0]\n",
    "    # start, end = map(int, tuple[1].split('-'))\n",
    "    range_search_hits_dict[profile].append(tuple[1])\n",
    "\n",
    "\n",
    "print(f'There are {len(range_search_hits)} WHD hitted in {len(range_search_hits_dict)} different proteins') # It contains the query proteins, with their searched range"
   ]
  },
  {
   "cell_type": "code",
   "execution_count": 4,
   "metadata": {},
   "outputs": [
    {
     "name": "stdout",
     "output_type": "stream",
     "text": [
      "35341\n"
     ]
    }
   ],
   "source": [
    "### NETWORK CREATION\n",
    "\n",
    "# Directories containing parsed HHsearch output files for network creation.\n",
    "hhsearch_output_dirs = [\"/home/nicola/internship/winghel/network/search_outputs_range/1_search/parsed_hhr\",\n",
    "                            \"/home/nicola/internship/winghel/network/search_outputs_range/2_search/parsed_hhr\",\n",
    "                                \"/home/nicola/internship/winghel/network/search_outputs_range/3_search/parsed_hhr\"]\n",
    "\n",
    "# Initialize the hits list with headers for the network edges table.\n",
    "edges_list = [] # Initialize the hits lists\n",
    "edges_list.append(\"Query\\tHit\\tProb\\tE_value\\tP_value\\tScore\\tSS\\tCols\\tQuery_HMM\\tTemplate_HMM\\tEdge_type\")\n",
    "\n",
    "# Iterate over each directory to extract edges from HHsearch output files.\n",
    "for directory in hhsearch_output_dirs:\n",
    "    for filename in os.listdir(directory):\n",
    "        file_path=os.path.join(directory, filename) # Create path to file    \n",
    "        # Extract edges with specified cutoffs for E-value and alignment length from the file.    \n",
    "        edges_list = get_edges_from_file_cut_off_and_range(file_path, filename, edges_list, E_cut_off=40, min_alig_len=30, Prob_cut_off = 40) # Extract\n",
    "\n",
    "print(len(edges_list))\n"
   ]
  },
  {
   "cell_type": "code",
   "execution_count": 5,
   "metadata": {},
   "outputs": [
    {
     "data": {
      "text/html": [
       "<div>\n",
       "<style scoped>\n",
       "    .dataframe tbody tr th:only-of-type {\n",
       "        vertical-align: middle;\n",
       "    }\n",
       "\n",
       "    .dataframe tbody tr th {\n",
       "        vertical-align: top;\n",
       "    }\n",
       "\n",
       "    .dataframe thead th {\n",
       "        text-align: right;\n",
       "    }\n",
       "</style>\n",
       "<table border=\"1\" class=\"dataframe\">\n",
       "  <thead>\n",
       "    <tr style=\"text-align: right;\">\n",
       "      <th></th>\n",
       "      <th>Query</th>\n",
       "      <th>Hit</th>\n",
       "      <th>Prob</th>\n",
       "      <th>E_value</th>\n",
       "      <th>P_value</th>\n",
       "      <th>Score</th>\n",
       "      <th>SS</th>\n",
       "      <th>Cols</th>\n",
       "      <th>Query_HMM</th>\n",
       "      <th>Template_HMM</th>\n",
       "      <th>Edge_type</th>\n",
       "    </tr>\n",
       "  </thead>\n",
       "  <tbody>\n",
       "    <tr>\n",
       "      <th>0</th>\n",
       "      <td>ask1</td>\n",
       "      <td>KOG3433_9-70</td>\n",
       "      <td>96.8</td>\n",
       "      <td>0.0025</td>\n",
       "      <td>2.6E-07</td>\n",
       "      <td>39.0</td>\n",
       "      <td>7.7</td>\n",
       "      <td>59</td>\n",
       "      <td>5-67</td>\n",
       "      <td>9-70</td>\n",
       "      <td>BH</td>\n",
       "    </tr>\n",
       "    <tr>\n",
       "      <th>1</th>\n",
       "      <td>ask1</td>\n",
       "      <td>KOG4603_8-68</td>\n",
       "      <td>96.6</td>\n",
       "      <td>0.0044</td>\n",
       "      <td>4.5E-07</td>\n",
       "      <td>37.8</td>\n",
       "      <td>7.6</td>\n",
       "      <td>58</td>\n",
       "      <td>6-67</td>\n",
       "      <td>8-68</td>\n",
       "      <td>SBH</td>\n",
       "    </tr>\n",
       "    <tr>\n",
       "      <th>2</th>\n",
       "      <td>ask1</td>\n",
       "      <td>COG5124_10-71</td>\n",
       "      <td>96.5</td>\n",
       "      <td>0.0055</td>\n",
       "      <td>5.7E-07</td>\n",
       "      <td>37.8</td>\n",
       "      <td>7.6</td>\n",
       "      <td>58</td>\n",
       "      <td>5-67</td>\n",
       "      <td>10-71</td>\n",
       "      <td>H</td>\n",
       "    </tr>\n",
       "    <tr>\n",
       "      <th>3</th>\n",
       "      <td>ask1</td>\n",
       "      <td>COG1510_40-77</td>\n",
       "      <td>95.3</td>\n",
       "      <td>0.037</td>\n",
       "      <td>3.9E-06</td>\n",
       "      <td>31.4</td>\n",
       "      <td>7.2</td>\n",
       "      <td>38</td>\n",
       "      <td>23-61</td>\n",
       "      <td>40-77</td>\n",
       "      <td>H</td>\n",
       "    </tr>\n",
       "    <tr>\n",
       "      <th>4</th>\n",
       "      <td>ask1</td>\n",
       "      <td>COG1378_20-63</td>\n",
       "      <td>95.3</td>\n",
       "      <td>0.025</td>\n",
       "      <td>2.6E-06</td>\n",
       "      <td>33.0</td>\n",
       "      <td>6.5</td>\n",
       "      <td>44</td>\n",
       "      <td>9-58</td>\n",
       "      <td>20-63</td>\n",
       "      <td>H</td>\n",
       "    </tr>\n",
       "    <tr>\n",
       "      <th>...</th>\n",
       "      <td>...</td>\n",
       "      <td>...</td>\n",
       "      <td>...</td>\n",
       "      <td>...</td>\n",
       "      <td>...</td>\n",
       "      <td>...</td>\n",
       "      <td>...</td>\n",
       "      <td>...</td>\n",
       "      <td>...</td>\n",
       "      <td>...</td>\n",
       "      <td>...</td>\n",
       "    </tr>\n",
       "    <tr>\n",
       "      <th>35335</th>\n",
       "      <td>KOG4772_107-181</td>\n",
       "      <td>COG2162_51-88</td>\n",
       "      <td>42.4</td>\n",
       "      <td>13</td>\n",
       "      <td>0.0014</td>\n",
       "      <td>21.6</td>\n",
       "      <td>4.3</td>\n",
       "      <td>34</td>\n",
       "      <td>30-63</td>\n",
       "      <td>51-88</td>\n",
       "      <td>H</td>\n",
       "    </tr>\n",
       "    <tr>\n",
       "      <th>35336</th>\n",
       "      <td>KOG4796_197-276</td>\n",
       "      <td>KOG1140_776-846</td>\n",
       "      <td>96.7</td>\n",
       "      <td>0.00049</td>\n",
       "      <td>5E-08</td>\n",
       "      <td>53.4</td>\n",
       "      <td>4.1</td>\n",
       "      <td>64</td>\n",
       "      <td>11-77</td>\n",
       "      <td>776-846</td>\n",
       "      <td>BH</td>\n",
       "    </tr>\n",
       "    <tr>\n",
       "      <th>35337</th>\n",
       "      <td>KOG4796_197-276</td>\n",
       "      <td>KOG1139_399-473</td>\n",
       "      <td>96.2</td>\n",
       "      <td>0.002</td>\n",
       "      <td>2.1E-07</td>\n",
       "      <td>46.2</td>\n",
       "      <td>5.0</td>\n",
       "      <td>64</td>\n",
       "      <td>12-77</td>\n",
       "      <td>399-473</td>\n",
       "      <td>SBH</td>\n",
       "    </tr>\n",
       "    <tr>\n",
       "      <th>35338</th>\n",
       "      <td>KOG4796_197-276</td>\n",
       "      <td>COG2137_17-61</td>\n",
       "      <td>88.2</td>\n",
       "      <td>0.57</td>\n",
       "      <td>5.8E-05</td>\n",
       "      <td>26.9</td>\n",
       "      <td>6.0</td>\n",
       "      <td>45</td>\n",
       "      <td>11-58</td>\n",
       "      <td>17-61</td>\n",
       "      <td>H</td>\n",
       "    </tr>\n",
       "    <tr>\n",
       "      <th>35339</th>\n",
       "      <td>KOG4796_197-276</td>\n",
       "      <td>KOG2354_290-345</td>\n",
       "      <td>75.0</td>\n",
       "      <td>1.1</td>\n",
       "      <td>0.00011</td>\n",
       "      <td>29.5</td>\n",
       "      <td>3.8</td>\n",
       "      <td>55</td>\n",
       "      <td>16-74</td>\n",
       "      <td>290-345</td>\n",
       "      <td>H</td>\n",
       "    </tr>\n",
       "  </tbody>\n",
       "</table>\n",
       "<p>35340 rows × 11 columns</p>\n",
       "</div>"
      ],
      "text/plain": [
       "                 Query              Hit  Prob  E_value  P_value Score   SS  \\\n",
       "0                 ask1     KOG3433_9-70  96.8   0.0025  2.6E-07  39.0  7.7   \n",
       "1                 ask1     KOG4603_8-68  96.6   0.0044  4.5E-07  37.8  7.6   \n",
       "2                 ask1    COG5124_10-71  96.5   0.0055  5.7E-07  37.8  7.6   \n",
       "3                 ask1    COG1510_40-77  95.3    0.037  3.9E-06  31.4  7.2   \n",
       "4                 ask1    COG1378_20-63  95.3    0.025  2.6E-06  33.0  6.5   \n",
       "...                ...              ...   ...      ...      ...   ...  ...   \n",
       "35335  KOG4772_107-181    COG2162_51-88  42.4       13   0.0014  21.6  4.3   \n",
       "35336  KOG4796_197-276  KOG1140_776-846  96.7  0.00049    5E-08  53.4  4.1   \n",
       "35337  KOG4796_197-276  KOG1139_399-473  96.2    0.002  2.1E-07  46.2  5.0   \n",
       "35338  KOG4796_197-276    COG2137_17-61  88.2     0.57  5.8E-05  26.9  6.0   \n",
       "35339  KOG4796_197-276  KOG2354_290-345  75.0      1.1  0.00011  29.5  3.8   \n",
       "\n",
       "      Cols Query_HMM Template_HMM Edge_type  \n",
       "0       59      5-67         9-70        BH  \n",
       "1       58      6-67         8-68       SBH  \n",
       "2       58      5-67        10-71         H  \n",
       "3       38     23-61        40-77         H  \n",
       "4       44      9-58        20-63         H  \n",
       "...    ...       ...          ...       ...  \n",
       "35335   34     30-63        51-88         H  \n",
       "35336   64     11-77      776-846        BH  \n",
       "35337   64     12-77      399-473       SBH  \n",
       "35338   45     11-58        17-61         H  \n",
       "35339   55     16-74      290-345         H  \n",
       "\n",
       "[35340 rows x 11 columns]"
      ]
     },
     "execution_count": 5,
     "metadata": {},
     "output_type": "execute_result"
    }
   ],
   "source": [
    "df_network = pd.DataFrame([x.split('\\t') for x in edges_list[1:]], columns=edges_list[0].split('\\t'))\n",
    "df_network"
   ]
  },
  {
   "cell_type": "code",
   "execution_count": null,
   "metadata": {},
   "outputs": [],
   "source": [
    "df_network_updated = update_dataframe_ranges(df_network, range_search_hits_dict)\n",
    "\n",
    "# Full path to the directory where the network edge file will be saved.\n",
    "full_path = \"/home/nicola/internship/winghel/network/network\"\n",
    "network_file_path = os.path.join(full_path, \"network_total.txt\")\n",
    "\n",
    "df_network_updated.to_csv(network_file_path, sep='\\t', index=False)\n",
    "df_network_updated"
   ]
  },
  {
   "cell_type": "code",
   "execution_count": null,
   "metadata": {},
   "outputs": [],
   "source": [
    "df_network[df_network['Query'].str.contains('COG1429', na=False)]"
   ]
  },
  {
   "cell_type": "code",
   "execution_count": null,
   "metadata": {},
   "outputs": [],
   "source": [
    "df_network_updated[df_network_updated['Query'].str.contains('COG1429', na=False)]"
   ]
  },
  {
   "cell_type": "code",
   "execution_count": null,
   "metadata": {},
   "outputs": [],
   "source": [
    "n_query_1=(set(df_network['Query']))\n",
    "n_target_1=(set(df_network['Hit']))"
   ]
  },
  {
   "cell_type": "code",
   "execution_count": null,
   "metadata": {},
   "outputs": [],
   "source": [
    "n_query_2=(set(df_network_updated['Query']))\n",
    "n_target_2=(set(df_network_updated['Hit']))"
   ]
  }
 ],
 "metadata": {
  "kernelspec": {
   "display_name": "internship",
   "language": "python",
   "name": "python3"
  },
  "language_info": {
   "codemirror_mode": {
    "name": "ipython",
    "version": 3
   },
   "file_extension": ".py",
   "mimetype": "text/x-python",
   "name": "python",
   "nbconvert_exporter": "python",
   "pygments_lexer": "ipython3",
   "version": "3.10.13"
  }
 },
 "nbformat": 4,
 "nbformat_minor": 2
}
